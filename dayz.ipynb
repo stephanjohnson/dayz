{
  "cells": [
    {
      "attachments": {},
      "cell_type": "markdown",
      "metadata": {},
      "source": [
        "# Install the required libraries\n",
        "\n",
        "This cell installs the required libraries, 'xmltodict' and 'pyyaml', if you haven't installed them already. Running this cell is optional if you already have the libraries installed."
      ]
    },
    {
      "cell_type": "code",
      "execution_count": 1,
      "metadata": {},
      "outputs": [
        {
          "name": "stdout",
          "output_type": "stream",
          "text": [
            "Requirement already satisfied: xmltodict in /home/stephan/.local/lib/python3.8/site-packages (0.13.0)\n",
            "Requirement already satisfied: pyyaml in /home/stephan/.local/lib/python3.8/site-packages (6.0)\n"
          ]
        }
      ],
      "source": [
        "!pip install xmltodict pyyaml"
      ]
    },
    {
      "attachments": {},
      "cell_type": "markdown",
      "metadata": {},
      "source": [
        "## Import libraries and define the `update_item` function\n",
        "\n",
        "This cell imports the necessary libraries and defines the 'update_item' function that updates item properties such as factor, restock, lifetime, and tier based on the provided configuration."
      ]
    },
    {
      "cell_type": "code",
      "execution_count": 25,
      "metadata": {},
      "outputs": [],
      "source": [
        "import xml.etree.ElementTree as ET\n",
        "import yaml\n",
        "import io\n",
        "\n",
        "def update_item(root, item_config):\n",
        "    item_name = item_config['name']\n",
        "    factor = item_config.get('factor', 1)\n",
        "    restock = item_config.get('restock')\n",
        "    lifetime = item_config.get('lifetime')\n",
        "    tier_changes = item_config.get('tier', [])\n",
        "\n",
        "    item_found = False\n",
        "\n",
        "    for item in root.iter('type'):\n",
        "        if item.get('name') == item_name:\n",
        "            item_found = True\n",
        "\n",
        "            # Update nominal value\n",
        "            nominal_element = item.find('nominal')\n",
        "            if nominal_element is not None:\n",
        "                nominal = int(nominal_element.text)\n",
        "                new_nominal = int(nominal * factor)\n",
        "                nominal_element.text = str(new_nominal)\n",
        "            else:\n",
        "                print(f\"Warning: Item '{item_name}' does not have a nominal value\")\n",
        "\n",
        "\n",
        "            # Update restock and lifetime values if provided\n",
        "            if restock is not None:\n",
        "                item.set('restock', str(restock))\n",
        "            if lifetime is not None:\n",
        "                item.set('lifetime', str(lifetime))\n",
        "\n",
        "            # Update tier values\n",
        "            if not isinstance(tier_changes, list):\n",
        "                tier_changes = [tier_changes]\n",
        "            for i in range(1, 5):\n",
        "                if i in tier_changes:\n",
        "                    item.set(f'tier{i}', '1')\n",
        "                else:\n",
        "                    item.set(f'tier{i}', '0')\n",
        "\n",
        "    if not item_found:\n",
        "        print(f\"Warning: Item '{item_name}' not found in types.xml\")"
      ]
    },
    {
      "attachments": {},
      "cell_type": "markdown",
      "metadata": {},
      "source": [
        "## Read the original `types.xml` file:\n",
        "This cell reads the original 'types.xml' file, which contains the item configuration for the game. Make sure to place the 'types.xml' file in the same directory as the notebook."
      ]
    },
    {
      "cell_type": "code",
      "execution_count": 17,
      "metadata": {},
      "outputs": [],
      "source": [
        "with open('types.xml', 'r') as file:\n",
        " tree = ET.parse(file)\n",
        " root = tree.getroot()"
      ]
    },
    {
      "attachments": {},
      "cell_type": "markdown",
      "metadata": {},
      "source": [
        "## Install the ipywidgets library\n",
        "\n",
        "This cell installs the 'ipywidgets' library, which is required to create interactive widgets in the notebook. Running this cell is optional if you already have the library installed."
      ]
    },
    {
      "cell_type": "code",
      "execution_count": 18,
      "metadata": {},
      "outputs": [
        {
          "name": "stdout",
          "output_type": "stream",
          "text": [
            "Requirement already satisfied: ipywidgets in /home/stephan/.local/lib/python3.8/site-packages (8.0.6)\n",
            "Requirement already satisfied: jupyterlab-widgets~=3.0.7 in /home/stephan/.local/lib/python3.8/site-packages (from ipywidgets) (3.0.7)\n",
            "Requirement already satisfied: ipykernel>=4.5.1 in /home/stephan/.local/lib/python3.8/site-packages (from ipywidgets) (6.19.4)\n",
            "Requirement already satisfied: traitlets>=4.3.1 in /home/stephan/.local/lib/python3.8/site-packages (from ipywidgets) (5.8.0)\n",
            "Requirement already satisfied: ipython>=6.1.0 in /home/stephan/.local/lib/python3.8/site-packages (from ipywidgets) (8.7.0)\n",
            "Requirement already satisfied: widgetsnbextension~=4.0.7 in /home/stephan/.local/lib/python3.8/site-packages (from ipywidgets) (4.0.7)\n",
            "Requirement already satisfied: comm>=0.1.1 in /home/stephan/.local/lib/python3.8/site-packages (from ipykernel>=4.5.1->ipywidgets) (0.1.2)\n",
            "Requirement already satisfied: debugpy>=1.0 in /home/stephan/.local/lib/python3.8/site-packages (from ipykernel>=4.5.1->ipywidgets) (1.6.4)\n",
            "Requirement already satisfied: tornado>=6.1 in /home/stephan/.local/lib/python3.8/site-packages (from ipykernel>=4.5.1->ipywidgets) (6.2)\n",
            "Requirement already satisfied: matplotlib-inline>=0.1 in /home/stephan/.local/lib/python3.8/site-packages (from ipykernel>=4.5.1->ipywidgets) (0.1.6)\n",
            "Requirement already satisfied: packaging in /home/stephan/.local/lib/python3.8/site-packages (from ipykernel>=4.5.1->ipywidgets) (22.0)\n",
            "Requirement already satisfied: pyzmq>=17 in /home/stephan/.local/lib/python3.8/site-packages (from ipykernel>=4.5.1->ipywidgets) (24.0.1)\n",
            "Requirement already satisfied: jupyter-client>=6.1.12 in /home/stephan/.local/lib/python3.8/site-packages (from ipykernel>=4.5.1->ipywidgets) (7.4.8)\n",
            "Requirement already satisfied: psutil in /home/stephan/.local/lib/python3.8/site-packages (from ipykernel>=4.5.1->ipywidgets) (5.9.4)\n",
            "Requirement already satisfied: nest-asyncio in /home/stephan/.local/lib/python3.8/site-packages (from ipykernel>=4.5.1->ipywidgets) (1.5.6)\n",
            "Requirement already satisfied: pickleshare in /home/stephan/.local/lib/python3.8/site-packages (from ipython>=6.1.0->ipywidgets) (0.7.5)\n",
            "Requirement already satisfied: pexpect>4.3; sys_platform != \"win32\" in /usr/lib/python3/dist-packages (from ipython>=6.1.0->ipywidgets) (4.6.0)\n",
            "Requirement already satisfied: pygments>=2.4.0 in /home/stephan/.local/lib/python3.8/site-packages (from ipython>=6.1.0->ipywidgets) (2.13.0)\n",
            "Requirement already satisfied: stack-data in /home/stephan/.local/lib/python3.8/site-packages (from ipython>=6.1.0->ipywidgets) (0.6.2)\n",
            "Requirement already satisfied: backcall in /home/stephan/.local/lib/python3.8/site-packages (from ipython>=6.1.0->ipywidgets) (0.2.0)\n",
            "Requirement already satisfied: prompt-toolkit<3.1.0,>=3.0.11 in /home/stephan/.local/lib/python3.8/site-packages (from ipython>=6.1.0->ipywidgets) (3.0.36)\n",
            "Requirement already satisfied: jedi>=0.16 in /home/stephan/.local/lib/python3.8/site-packages (from ipython>=6.1.0->ipywidgets) (0.18.2)\n",
            "Requirement already satisfied: decorator in /home/stephan/.local/lib/python3.8/site-packages (from ipython>=6.1.0->ipywidgets) (5.1.1)\n",
            "Requirement already satisfied: entrypoints in /usr/lib/python3/dist-packages (from jupyter-client>=6.1.12->ipykernel>=4.5.1->ipywidgets) (0.3)\n",
            "Requirement already satisfied: jupyter-core>=4.9.2 in /home/stephan/.local/lib/python3.8/site-packages (from jupyter-client>=6.1.12->ipykernel>=4.5.1->ipywidgets) (5.1.1)\n",
            "Requirement already satisfied: python-dateutil>=2.8.2 in /home/stephan/.local/lib/python3.8/site-packages (from jupyter-client>=6.1.12->ipykernel>=4.5.1->ipywidgets) (2.8.2)\n",
            "Requirement already satisfied: executing>=1.2.0 in /home/stephan/.local/lib/python3.8/site-packages (from stack-data->ipython>=6.1.0->ipywidgets) (1.2.0)\n",
            "Requirement already satisfied: asttokens>=2.1.0 in /home/stephan/.local/lib/python3.8/site-packages (from stack-data->ipython>=6.1.0->ipywidgets) (2.2.1)\n",
            "Requirement already satisfied: pure-eval in /home/stephan/.local/lib/python3.8/site-packages (from stack-data->ipython>=6.1.0->ipywidgets) (0.2.2)\n",
            "Requirement already satisfied: wcwidth in /home/stephan/.local/lib/python3.8/site-packages (from prompt-toolkit<3.1.0,>=3.0.11->ipython>=6.1.0->ipywidgets) (0.2.5)\n",
            "Requirement already satisfied: parso<0.9.0,>=0.8.0 in /home/stephan/.local/lib/python3.8/site-packages (from jedi>=0.16->ipython>=6.1.0->ipywidgets) (0.8.3)\n",
            "Requirement already satisfied: platformdirs>=2.5 in /home/stephan/.local/lib/python3.8/site-packages (from jupyter-core>=4.9.2->jupyter-client>=6.1.12->ipykernel>=4.5.1->ipywidgets) (2.6.0)\n",
            "Requirement already satisfied: six>=1.5 in /usr/lib/python3/dist-packages (from python-dateutil>=2.8.2->jupyter-client>=6.1.12->ipykernel>=4.5.1->ipywidgets) (1.14.0)\n"
          ]
        }
      ],
      "source": [
        "!pip install ipywidgets"
      ]
    },
    {
      "attachments": {},
      "cell_type": "markdown",
      "metadata": {},
      "source": [
        "## Import libraries and create a function to load the YAML configuration\n",
        "\n",
        "This cell imports the necessary libraries and defines the 'load_config' function that reads the YAML configuration file and returns the configuration as a dictionary."
      ]
    },
    {
      "cell_type": "code",
      "execution_count": 19,
      "metadata": {},
      "outputs": [],
      "source": [
        "import yaml\n",
        "\n",
        "def load_config(config_filename):\n",
        "    with open(config_filename, 'r') as file:\n",
        "        data = yaml.safe_load(file)\n",
        "    return data['items']"
      ]
    },
    {
      "attachments": {},
      "cell_type": "markdown",
      "metadata": {},
      "source": [
        "## List available YAML configuration files and create a dropdown widget\n",
        "\n",
        "This cell lists all available YAML configuration files in the same directory as the notebook and creates a dropdown widget that allows you to select a configuration file."
      ]
    },
    {
      "cell_type": "code",
      "execution_count": 20,
      "metadata": {},
      "outputs": [
        {
          "data": {
            "application/vnd.jupyter.widget-view+json": {
              "model_id": "1c35d551e5394b2cb488b18e597f003b",
              "version_major": 2,
              "version_minor": 0
            },
            "text/plain": [
              "Dropdown(description='Config File:', options=('weapons.yaml', 'template.yaml', 'armor.yaml'), value='weapons.y…"
            ]
          },
          "metadata": {},
          "output_type": "display_data"
        }
      ],
      "source": [
        "config_files = [file for file in os.listdir() if file.endswith('.yaml')]\n",
        "\n",
        "dropdown = widgets.Dropdown(\n",
        " options=config_files,\n",
        " description='Config File:',\n",
        " disabled=False,\n",
        ")\n",
        "\n",
        "display(dropdown)"
      ]
    },
    {
      "attachments": {},
      "cell_type": "markdown",
      "metadata": {},
      "source": [
        "## Load the selected configuration file or the default one\n",
        "\n",
        "This cell checks if a configuration file has been selected using the dropdown widget. If a file has been selected, it loads the configuration from that file. If not, it loads a default configuration file. Make sure to replace 'default_config.yaml' with the actual name of your default configuration file."
      ]
    },
    {
      "cell_type": "code",
      "execution_count": 21,
      "metadata": {},
      "outputs": [
        {
          "name": "stdout",
          "output_type": "stream",
          "text": [
            "Loading selected configuration file: weapons.yaml\n"
          ]
        }
      ],
      "source": [
        "if dropdown.value is None:\n",
        "    config_filename = 'default_config.yaml'  # Replace this with your default config filename\n",
        "    print(f\"Loading default configuration file: {config_filename}\")\n",
        "else:\n",
        "    config_filename = dropdown.value\n",
        "    print(f\"Loading selected configuration file: {config_filename}\")\n",
        "\n",
        "config = load_config(config_filename)"
      ]
    },
    {
      "attachments": {},
      "cell_type": "markdown",
      "metadata": {},
      "source": [
        "## Update the nominal values for the items in the config\n",
        "\n",
        "This cell updates the nominal values for the items in the selected configuration using the 'update_item' function."
      ]
    },
    {
      "cell_type": "code",
      "execution_count": 26,
      "metadata": {},
      "outputs": [
        {
          "name": "stdout",
          "output_type": "stream",
          "text": [
            "Warning: Item 'AKM_Ammo' not found in types.xml\n",
            "Warning: Item 'M4A1_Ammo' not found in types.xml\n"
          ]
        }
      ],
      "source": [
        "for item_config in config:\n",
        " update_item(root, item_config)"
      ]
    },
    {
      "attachments": {},
      "cell_type": "markdown",
      "metadata": {},
      "source": [
        "## Save the updated XML to a new file\n",
        "\n",
        "This cell saves the updated XML to a new file named 'updated_types.xml'. You can use this file to modify the game's item spawning behavior according to the selected configuration."
      ]
    },
    {
      "cell_type": "code",
      "execution_count": null,
      "metadata": {},
      "outputs": [],
      "source": [
        "with open('updated_types.xml', 'wb') as file:\n",
        " tree.write(file)"
      ]
    }
  ],
  "metadata": {
    "kernelspec": {
      "display_name": "Python 3",
      "language": "python",
      "name": "python3"
    },
    "language_info": {
      "codemirror_mode": {
        "name": "ipython",
        "version": 3
      },
      "file_extension": ".py",
      "mimetype": "text/x-python",
      "name": "python",
      "nbconvert_exporter": "python",
      "pygments_lexer": "ipython3",
      "version": "3.8.10"
    }
  },
  "nbformat": 4,
  "nbformat_minor": 4
}
